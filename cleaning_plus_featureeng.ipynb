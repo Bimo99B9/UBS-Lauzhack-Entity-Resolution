{
 "cells": [
  {
   "cell_type": "markdown",
   "metadata": {},
   "source": [
    "# 1. Preprocessing"
   ]
  },
  {
   "cell_type": "code",
   "execution_count": 5,
   "metadata": {},
   "outputs": [],
   "source": [
    "import numpy as np\n",
    "import pandas as pd"
   ]
  },
  {
   "cell_type": "code",
   "execution_count": 6,
   "metadata": {},
   "outputs": [
    {
     "name": "stdout",
     "output_type": "stream",
     "text": [
      "Loading data\n",
      "Changing debit credit to 0 and 1\n",
      "Loading external parties\n",
      "Changing BENE to 0 and ORG to 1\n",
      "Cleaning text data\n",
      "Removing common words\n",
      "Loading data\n",
      "Changing debit credit to 0 and 1\n",
      "Loading external parties\n",
      "Changing BENE to 0 and ORG to 1\n",
      "Cleaning text data\n",
      "Removing common words\n"
     ]
    }
   ],
   "source": [
    "from data_preprocessing import data_preprocessing\n",
    "\n",
    "account_booking_train, external_parties_train = data_preprocessing(\n",
    "    \"account_booking_train.csv\", \"external_parties_train.csv\"\n",
    ")\n",
    "account_booking_test, external_parties_test = data_preprocessing(\n",
    "    \"account_booking_test.csv\", \"external_parties_test.csv\"\n",
    ")"
   ]
  },
  {
   "cell_type": "markdown",
   "metadata": {},
   "source": [
    "# 2. Feature Engineering"
   ]
  },
  {
   "cell_type": "code",
   "execution_count": 7,
   "metadata": {},
   "outputs": [
    {
     "data": {
      "text/html": [
       "<div>\n",
       "<style scoped>\n",
       "    .dataframe tbody tr th:only-of-type {\n",
       "        vertical-align: middle;\n",
       "    }\n",
       "\n",
       "    .dataframe tbody tr th {\n",
       "        vertical-align: top;\n",
       "    }\n",
       "\n",
       "    .dataframe thead th {\n",
       "        text-align: right;\n",
       "    }\n",
       "</style>\n",
       "<table border=\"1\" class=\"dataframe\">\n",
       "  <thead>\n",
       "    <tr style=\"text-align: right;\">\n",
       "      <th></th>\n",
       "      <th>transaction_reference_id</th>\n",
       "      <th>party_role</th>\n",
       "      <th>party_info_unstructured</th>\n",
       "      <th>parsed_name</th>\n",
       "      <th>parsed_address_street_name</th>\n",
       "      <th>parsed_address_street_number</th>\n",
       "      <th>parsed_address_unit</th>\n",
       "      <th>parsed_address_postal_code</th>\n",
       "      <th>parsed_address_city</th>\n",
       "      <th>parsed_address_state</th>\n",
       "      <th>parsed_address_country</th>\n",
       "      <th>party_iban</th>\n",
       "      <th>party_phone</th>\n",
       "      <th>external_id</th>\n",
       "    </tr>\n",
       "  </thead>\n",
       "  <tbody>\n",
       "    <tr>\n",
       "      <th>0</th>\n",
       "      <td>04ff0d1c680189e3a80c92d86407f0f5</td>\n",
       "      <td>0</td>\n",
       "      <td>mary mith 107 107 angela brooks n. thomasfurt ...</td>\n",
       "      <td>mary mith</td>\n",
       "      <td>angela brooks</td>\n",
       "      <td>107 107</td>\n",
       "      <td>NaN</td>\n",
       "      <td>NaN</td>\n",
       "      <td>n. thomasfurt</td>\n",
       "      <td>NaN</td>\n",
       "      <td>bulgaria</td>\n",
       "      <td>GB49MYOB82127728573340</td>\n",
       "      <td>+1.815660-6791x8486</td>\n",
       "      <td>50039037</td>\n",
       "    </tr>\n",
       "    <tr>\n",
       "      <th>1</th>\n",
       "      <td>439ab0ad7380e6135ab2ff3fddd4a727</td>\n",
       "      <td>1</td>\n",
       "      <td>yesneia kim north michael 93971 koribati</td>\n",
       "      <td>yesneia kim</td>\n",
       "      <td>north michael</td>\n",
       "      <td>NaN</td>\n",
       "      <td>NaN</td>\n",
       "      <td>93971</td>\n",
       "      <td>koribati</td>\n",
       "      <td>NaN</td>\n",
       "      <td>NaN</td>\n",
       "      <td>NaN</td>\n",
       "      <td>0 (269)620-8734x2349</td>\n",
       "      <td>60044692</td>\n",
       "    </tr>\n",
       "    <tr>\n",
       "      <th>2</th>\n",
       "      <td>00cac12d41191a84f9e31aa731a83512</td>\n",
       "      <td>1</td>\n",
       "      <td>w. roberson jr. 41010 rachel crossingapt. 923 ...</td>\n",
       "      <td>w roberson</td>\n",
       "      <td>rachel crossingapt</td>\n",
       "      <td>41010 923</td>\n",
       "      <td>NaN</td>\n",
       "      <td>p2235417</td>\n",
       "      <td>thompsonshire amyport</td>\n",
       "      <td>NaN</td>\n",
       "      <td>NaN</td>\n",
       "      <td>GB08OTHR53515837682953</td>\n",
       "      <td>NaN</td>\n",
       "      <td>30008244</td>\n",
       "    </tr>\n",
       "    <tr>\n",
       "      <th>3</th>\n",
       "      <td>e4fba5f878dd3453e35973605a783a16</td>\n",
       "      <td>0</td>\n",
       "      <td>azquez-nelson co. suarez ports suite &amp; 024 bri...</td>\n",
       "      <td>azquez nelson co</td>\n",
       "      <td>ports suite</td>\n",
       "      <td>NaN</td>\n",
       "      <td>NaN</td>\n",
       "      <td>NaN</td>\n",
       "      <td>brittanyberg</td>\n",
       "      <td>NaN</td>\n",
       "      <td>bulgaria bulgaria</td>\n",
       "      <td>GB17VVGW66321494633280</td>\n",
       "      <td>NaN</td>\n",
       "      <td>40017944</td>\n",
       "    </tr>\n",
       "    <tr>\n",
       "      <th>4</th>\n",
       "      <td>d03d7e4c31878b0255d39e8c3f0ab625</td>\n",
       "      <td>1</td>\n",
       "      <td>m.j. bytd iii 856 john lake s. glenn cocos (ke...</td>\n",
       "      <td>mj bytd</td>\n",
       "      <td>john lake s glenn</td>\n",
       "      <td>856</td>\n",
       "      <td>NaN</td>\n",
       "      <td>125838276</td>\n",
       "      <td>cocos (keeling)</td>\n",
       "      <td>islands</td>\n",
       "      <td>NaN</td>\n",
       "      <td>NaN</td>\n",
       "      <td>(260)3371534</td>\n",
       "      <td>40012658</td>\n",
       "    </tr>\n",
       "  </tbody>\n",
       "</table>\n",
       "</div>"
      ],
      "text/plain": [
       "           transaction_reference_id  party_role  \\\n",
       "0  04ff0d1c680189e3a80c92d86407f0f5           0   \n",
       "1  439ab0ad7380e6135ab2ff3fddd4a727           1   \n",
       "2  00cac12d41191a84f9e31aa731a83512           1   \n",
       "3  e4fba5f878dd3453e35973605a783a16           0   \n",
       "4  d03d7e4c31878b0255d39e8c3f0ab625           1   \n",
       "\n",
       "                             party_info_unstructured       parsed_name  \\\n",
       "0  mary mith 107 107 angela brooks n. thomasfurt ...         mary mith   \n",
       "1           yesneia kim north michael 93971 koribati       yesneia kim   \n",
       "2  w. roberson jr. 41010 rachel crossingapt. 923 ...        w roberson   \n",
       "3  azquez-nelson co. suarez ports suite & 024 bri...  azquez nelson co   \n",
       "4  m.j. bytd iii 856 john lake s. glenn cocos (ke...           mj bytd   \n",
       "\n",
       "  parsed_address_street_name parsed_address_street_number  \\\n",
       "0              angela brooks                      107 107   \n",
       "1              north michael                          NaN   \n",
       "2         rachel crossingapt                    41010 923   \n",
       "3                ports suite                          NaN   \n",
       "4          john lake s glenn                          856   \n",
       "\n",
       "   parsed_address_unit parsed_address_postal_code    parsed_address_city  \\\n",
       "0                  NaN                        NaN          n. thomasfurt   \n",
       "1                  NaN                      93971               koribati   \n",
       "2                  NaN                   p2235417  thompsonshire amyport   \n",
       "3                  NaN                        NaN           brittanyberg   \n",
       "4                  NaN                  125838276        cocos (keeling)   \n",
       "\n",
       "  parsed_address_state parsed_address_country              party_iban  \\\n",
       "0                  NaN               bulgaria  GB49MYOB82127728573340   \n",
       "1                  NaN                    NaN                     NaN   \n",
       "2                  NaN                    NaN  GB08OTHR53515837682953   \n",
       "3                  NaN      bulgaria bulgaria  GB17VVGW66321494633280   \n",
       "4              islands                    NaN                     NaN   \n",
       "\n",
       "            party_phone  external_id  \n",
       "0   +1.815660-6791x8486     50039037  \n",
       "1  0 (269)620-8734x2349     60044692  \n",
       "2                   NaN     30008244  \n",
       "3                   NaN     40017944  \n",
       "4          (260)3371534     40012658  "
      ]
     },
     "execution_count": 7,
     "metadata": {},
     "output_type": "execute_result"
    }
   ],
   "source": [
    "external_parties_train.head()"
   ]
  },
  {
   "cell_type": "code",
   "execution_count": 8,
   "metadata": {},
   "outputs": [],
   "source": [
    "import feature_engineering\n",
    "\n",
    "# Apply feature engineering to training data\n",
    "external_parties_train = feature_engineering.perform_feature_engineering(\n",
    "    external_parties_train\n",
    ")\n",
    "\n",
    "# Apply feature engineering to test data\n",
    "external_parties_test = feature_engineering.perform_feature_engineering(\n",
    "    external_parties_test\n",
    ")"
   ]
  },
  {
   "cell_type": "code",
   "execution_count": 9,
   "metadata": {},
   "outputs": [],
   "source": [
    "external_parties_train.head(15).to_csv(\"example.csv\", index=False)"
   ]
  },
  {
   "cell_type": "code",
   "execution_count": 11,
   "metadata": {},
   "outputs": [],
   "source": [
    "external_parties_train.to_csv(\"data/processed/external_parties_train.csv\", index=False)\n",
    "external_parties_test.to_csv(\"data/processed/external_parties_test.csv\", index=False)"
   ]
  }
 ],
 "metadata": {
  "kernelspec": {
   "display_name": "venv",
   "language": "python",
   "name": "python3"
  },
  "language_info": {
   "codemirror_mode": {
    "name": "ipython",
    "version": 3
   },
   "file_extension": ".py",
   "mimetype": "text/x-python",
   "name": "python",
   "nbconvert_exporter": "python",
   "pygments_lexer": "ipython3",
   "version": "3.13.0"
  }
 },
 "nbformat": 4,
 "nbformat_minor": 2
}
